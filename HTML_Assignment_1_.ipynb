{
  "nbformat": 4,
  "nbformat_minor": 0,
  "metadata": {
    "colab": {
      "provenance": []
    },
    "kernelspec": {
      "name": "python3",
      "display_name": "Python 3"
    },
    "language_info": {
      "name": "python"
    }
  },
  "cells": [
    {
      "cell_type": "code",
      "execution_count": null,
      "metadata": {
        "id": "kFbr-x8Aewse"
      },
      "outputs": [],
      "source": []
    },
    {
      "cell_type": "markdown",
      "source": [
        "###  \u0019 Explain the main components of client-server architecture and their functions ??\n"
      ],
      "metadata": {
        "id": "yc2W1_WOezEh"
      }
    },
    {
      "cell_type": "markdown",
      "source": [
        "  -->Client-Server Architecture is a model where tasks or workloads are distributed between service providers (servers) and service requesters (clients).\n",
        " * Main component\n",
        "\n",
        " 1. **Client**\n",
        "    \n",
        "    The client is the end-user device like a browser that send a request to the server.\n",
        "    It interact with the user and display the information received from the server.\n",
        "\n",
        " 2. **Server**\n",
        "\n",
        " The server is a system that stores data ,run backend logic ,and responds to cliend requests.It listen for request and process them.\n",
        "\n",
        " 3.**Network**\n",
        "\n",
        " Network is a communication medium between client and server and it allows data exchange through protocols like- HTTP etc\n",
        "\n",
        " database it is a storing and managing data used by the server.\n",
        "\n",
        "* Function flow -\n",
        "\n",
        " Client --> send request-->server--> collect-->process request-->create a response-->sends response back-->client display it to user\n"
      ],
      "metadata": {
        "id": "HHRerAFbfDa-"
      }
    },
    {
      "cell_type": "markdown",
      "source": [
        "### \u0019 Discuss the various career paths available after completing a web development course\u0019?"
      ],
      "metadata": {
        "id": "dsxXCAL6n-cp"
      }
    },
    {
      "cell_type": "markdown",
      "source": [
        "--> After completing a web developer cource,there are several exciting opportunities-\n",
        "\n",
        "* **Frontend Developer**:\n",
        "\n",
        "  Works on the visual part of websites(HTML,CSS,JS).Focuses on user interface and user experience.\n",
        "\n",
        "* **Backend Developer:**\n",
        "\n",
        "  Manage the server side logic and database(Note.js,Python)\n",
        "\n",
        "* **Full Stack Developer:**\n",
        "\n",
        "   Handles both Frontend and Backend very in demand for startup and tech-companies.\n",
        "\n",
        "* **UI/UX Designer:**\n",
        "\n",
        "   Focus on design ,layout and user interaction.\n",
        "\n",
        "* **Web Designer:**\n",
        "\n",
        "   Mainly work on design aspects like layout,colors and structure uses HTML,CSS and design tool.\n",
        "   "
      ],
      "metadata": {
        "id": "QPO58R2coPic"
      }
    },
    {
      "cell_type": "markdown",
      "source": [
        "### \u0006\u0019 Describe the role of a web browser's developer tools in web development\u0019"
      ],
      "metadata": {
        "id": "47uq4pfiyFss"
      }
    },
    {
      "cell_type": "markdown",
      "source": [
        "--> Developer Tools (DevTools) in a browser help web developers test, debug, and optimize websites. They are built-in tools available in browsers like Chrome, Firefox, etc.\n",
        "\n",
        "\n",
        "1. Inspect Elements: - Allows viewing and editing of HTML and CSS in real time.\n",
        "\n",
        "2. Networking Tab:- Shows how files load on a page -help with a speed\n",
        "  optimization and API debugging.\n",
        "3. Sources Tab: -Showing origonal code file and helps in debugging js.\n",
        "4. Helps track rendering time and improve load speed.\n",
        "\n",
        "\n"
      ],
      "metadata": {
        "id": "ARmQOhDnyV73"
      }
    },
    {
      "cell_type": "markdown",
      "source": [
        "### \u0007\u0019 What are the advantages of using a Version Control System like Git in a development project\u0004"
      ],
      "metadata": {
        "id": "bG0d34bK7c-A"
      }
    },
    {
      "cell_type": "markdown",
      "source": [
        "--> Version Control System like git help developers track changes ,collaborate version easily.\n",
        "* **Advantages**\n",
        "\n",
        "  1) Track Changes: -Every change is recorded .you can go back to older version anytime.\n",
        "\n",
        "  2) Team Collaboration:- Multiple developers can work on the same project without conflict.\n",
        "\n",
        "  3) Branching and Merging: - Work on new featurs seprately without affecting the main code.\n",
        "\n",
        "  4) Backup: -Your code safely stored with GitHub.\n",
        "\n",
        "  5) Error Recovery: - Mistake can be undone easily.\n",
        "  "
      ],
      "metadata": {
        "id": "flynFRC07rZB"
      }
    },
    {
      "cell_type": "markdown",
      "source": [
        "### \u0001\u0019 Compare and contrast a text editor and an IDE, highlighting their key features and uses."
      ],
      "metadata": {
        "id": "dI9SsiBwDElj"
      }
    },
    {
      "cell_type": "markdown",
      "source": [
        "--> Text Editors and IDEs are tools used for writing code, but they differ in features and complexity.\n",
        "\n",
        " **Feature** - Defination\n",
        "\n",
        "**Text Editor** - Lightweight tool to write code\n",
        "\n",
        " **IDE** -Full software suite for development\n",
        "\n",
        " **Example** -VS Code, Sublime text ,Notepad++\n",
        "\n",
        " **IDE** - Intellij, Eclips,visual studio\n",
        "\n",
        " Speed -- Faster light-weight\n",
        "\n",
        " **IDE** - Slower, resouce-heavy\n",
        "\n",
        " **Best for** - Simple scripting and Quick edits\n",
        "\n",
        " **IDE** - Full project development and debugging\n",
        "\n",
        " both tools are helpful.\n",
        "\n"
      ],
      "metadata": {
        "id": "uAR1eBGKDUdG"
      }
    },
    {
      "cell_type": "markdown",
      "source": [],
      "metadata": {
        "id": "u0NszhTSM_Ln"
      }
    }
  ]
}